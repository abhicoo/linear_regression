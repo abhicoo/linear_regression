{
 "cells": [
  {
   "cell_type": "code",
   "execution_count": 1,
   "metadata": {
    "collapsed": false
   },
   "outputs": [],
   "source": [
    "#Directs jupyter to draw matplotlib graphics inline not in new window\n",
    "%matplotlib inline \n",
    "#importing the numpy library\n",
    "import numpy as np\n",
    "#importing matplotlib graph plotting module\n",
    "import matplotlib.pyplot as plt"
   ]
  },
  {
   "cell_type": "code",
   "execution_count": 2,
   "metadata": {
    "collapsed": true
   },
   "outputs": [],
   "source": [
    "# Function to Scatter Plot our data\n",
    "def plot(data, xlabel, ylabel):\n",
    "    plt.xlabel(xlabel)\n",
    "    plt.ylabel(ylabel)\n",
    "    x = data[:,0]\n",
    "    y = data[:,1]\n",
    "    plt.scatter(x, y)"
   ]
  },
  {
   "cell_type": "code",
   "execution_count": 3,
   "metadata": {
    "collapsed": true
   },
   "outputs": [],
   "source": [
    "#Some helper functions\n",
    "\n",
    "#Converts a vector of shape (N,) to (N, 1)\n",
    "def reshape_vector_to_array(v):\n",
    "    vector_length = v.shape[0]\n",
    "    return np.reshape(v, (vector_length, 1))\n",
    "\n",
    "#Adds a column of ones to a vector of shape (N,) and returns matrix of shape(N, 2)\n",
    "#The returned matrix will have first column of ones\n",
    "def append_ones_column_to_vector(v):\n",
    "    vector_length = v.shape[0]\n",
    "    reshaped_vector = reshape_vector_to_array(v)\n",
    "    ones = np.ones((vector_length, 1))\n",
    "    return np.append(ones, reshaped_vector, axis = 1)"
   ]
  },
  {
   "cell_type": "code",
   "execution_count": 4,
   "metadata": {
    "collapsed": true
   },
   "outputs": [],
   "source": [
    "#load data in np array\n",
    "#Each row is mapping between how much a student scored in a test given number of hrs he studied\n",
    "data = np.genfromtxt(\"data.csv\", delimiter = ',')"
   ]
  },
  {
   "cell_type": "code",
   "execution_count": 5,
   "metadata": {
    "collapsed": true
   },
   "outputs": [],
   "source": [
    "#Appends a column of ones to x vector and return a new x matrix\n",
    "#Appending a column of ones helps in  calculation for prediction and gradient descent\n",
    "x = append_ones_column_to_vector(data[:, 0])"
   ]
  },
  {
   "cell_type": "code",
   "execution_count": 6,
   "metadata": {
    "collapsed": true
   },
   "outputs": [],
   "source": [
    "y = reshape_vector_to_array(data[:, 1])"
   ]
  },
  {
   "cell_type": "code",
   "execution_count": 7,
   "metadata": {
    "collapsed": false
   },
   "outputs": [
    {
     "data": {
      "image/png": "[encoded data removed]",
      "text/plain": [
       "<matplotlib.figure.Figure at 0x1163f2630>"
      ]
     },
     "metadata": {},
     "output_type": "display_data"
    }
   ],
   "source": [
    "#On Plotting the graph we can see a linear relationship between Hrs Studied and Score\n",
    "#Our job it to find this linear equation\n",
    "plot(data, \"Hrs Studied\", \"Score\")"
   ]
  },
  {
   "cell_type": "code",
   "execution_count": 8,
   "metadata": {
    "collapsed": true
   },
   "outputs": [],
   "source": [
    "#For each x we calculate score with the current value of b and m\n",
    "#Returns a vector of scores\n",
    "def calculate_prediction(x, b, m):\n",
    "    return np.matmul(x, np.array([[b], [m]]))"
   ]
  },
  {
   "cell_type": "code",
   "execution_count": 9,
   "metadata": {
    "collapsed": false
   },
   "outputs": [],
   "source": [
    "#Calculation mean square Error\n",
    "def mean_squared_error(x, y, b, m):\n",
    "    N = x.shape[0]\n",
    "    pred = calculate_prediction(x, b, m)\n",
    "    error = y - pred\n",
    "    mean_square_error = np.sum(np.square(error))/float(N)\n",
    "    return mean_square_error"
   ]
  },
  {
   "cell_type": "code",
   "execution_count": 10,
   "metadata": {
    "collapsed": false
   },
   "outputs": [
    {
     "name": "stdout",
     "output_type": "stream",
     "text": [
      "Error at initial b 0 and initial m 0 is 5565.107834483214\n"
     ]
    }
   ],
   "source": [
    "initial_b = 0\n",
    "initial_m = 0\n",
    "initial_error = mean_squared_error(x, y, initial_b, initial_m)\n",
    "print(\"Error at initial b {0} and initial m {1} is {2}\".format(initial_b, initial_m, initial_error))"
   ]
  },
  {
   "cell_type": "code",
   "execution_count": 11,
   "metadata": {
    "collapsed": false,
    "scrolled": true
   },
   "outputs": [
    {
     "name": "stdout",
     "output_type": "stream",
     "text": [
      "Error at final b 0.08893651993741343 and final m 1.4777440851894448 is 112.6148101161347\n"
     ]
    }
   ],
   "source": [
    "#Applying Gradient Descent to find the optimum value of b and m that minimizes the error\n",
    "#Return optimal b and m\n",
    "def gradient_descent(x, y, initial_b, initial_m, learn_rate, num_iterations):\n",
    "    N = x.shape[0]\n",
    "    b_m = np.array([initial_b, initial_m])\n",
    "    for i in range(num_iterations):\n",
    "        pred = calculate_prediction(x, b_m[0], b_m[1])\n",
    "        error = y - pred\n",
    "        gradient = np.sum(x * error, axis = 0) * -1\n",
    "        b_m = b_m - (2/float(N)) * gradient * learn_rate\n",
    "    return (b_m[0], b_m[1])\n",
    "\n",
    "\n",
    "learn_rate = 0.0001\n",
    "num_iteration = 1000\n",
    "\n",
    "(b, m) = gradient_descent(x, y, initial_b, initial_m, learn_rate, num_iteration)\n",
    "final_error = mean_squared_error(x, y, b, m)\n",
    "print(\"Error at final b {0} and final m {1} is {2}\".format(b, m, final_error))"
   ]
  }
 ],
 "metadata": {
  "kernelspec": {
   "display_name": "Python 3",
   "language": "python",
   "name": "python3"
  },
  "language_info": {
   "codemirror_mode": {
    "name": "ipython",
    "version": 3
   },
   "file_extension": ".py",
   "mimetype": "text/x-python",
   "name": "python",
   "nbconvert_exporter": "python",
   "pygments_lexer": "ipython3",
   "version": "3.6.0"
  }
 },
 "nbformat": 4,
 "nbformat_minor": 2
}
