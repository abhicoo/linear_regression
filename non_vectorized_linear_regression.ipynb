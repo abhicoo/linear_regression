{
 "cells": [
  {
   "cell_type": "code",
   "execution_count": 1,
   "metadata": {
    "collapsed": false,
    "deletable": true,
    "editable": true
   },
   "outputs": [
    {
     "name": "stdout",
     "output_type": "stream",
     "text": [
      "Starting Learning with b = 0, m = 0, error = 5565.107834483211\n",
      "After Learning final b = 0.08893651993741344, m = 1.4777440851894448, error = 112.61481011613473\n"
     ]
    },
    {
     "data": {
      "image/png": "[encoded data removed]",
      "text/plain": [
       "<matplotlib.figure.Figure at 0x10c01c780>"
      ]
     },
     "metadata": {},
     "output_type": "display_data"
    }
   ],
   "source": [
    "%matplotlib inline\n",
    "import numpy as np\n",
    "import matplotlib.pyplot as plt\n",
    "\n",
    "def predict(x, b, m):\n",
    "    return [(m * x_val + b) for x_val in x]\n",
    "def calculate_error(points, b, m):\n",
    "    total_error = 0\n",
    "    for i in range(0, len(points)):\n",
    "        x = points[i, 0]\n",
    "        y = points[i, 1]\n",
    "        pred = m * x + b\n",
    "        error = (pred - y) ** 2\n",
    "        total_error += error\n",
    "    return total_error/float(len(points))\n",
    "\n",
    "\n",
    "def step_gradient(points, b_current, m_current, learning_rate):\n",
    "    b_gradient = 0\n",
    "    m_gradient = 0\n",
    "    N = float(len(points))\n",
    "    for i in range(0, len(points)):\n",
    "        x = points[i, 0]\n",
    "        y = points[i, 1]\n",
    "        b_gradient += -(2/N) * (y - ((m_current * x) + b_current))\n",
    "        m_gradient += -(2/N) * (y - ((m_current * x) + b_current)) * x\n",
    "    new_b = b_current - learning_rate * b_gradient\n",
    "    new_m = m_current - learning_rate * m_gradient\n",
    "    return [new_b, new_m]\n",
    "\n",
    "def gradient_descent_runner(points, initial_b, initial_m, learning_rate, num_iterations):\n",
    "    b = initial_b\n",
    "    m = initial_m\n",
    "    for i in range(num_iterations):\n",
    "        [b, m] = step_gradient(points, b, m, learning_rate) \n",
    "    return [b, m]\n",
    "\n",
    "def run():\n",
    "    points = np.genfromtxt(\"data.csv\", delimiter=\",\")\n",
    "    np_points = np.array(points)\n",
    "    initial_b = 0\n",
    "    initial_m = 0\n",
    "    num_iterations = 1000\n",
    "    learning_rate = 0.0001\n",
    "    \n",
    "    print(\"Starting Learning with b = {0}, m = {1}, error = {2}\".format(initial_b, initial_m, calculate_error(points, initial_b, initial_m)))\n",
    "    [b, m] = gradient_descent_runner(points, initial_b, initial_m, learning_rate, num_iterations)\n",
    "    print(\"After Learning final b = {0}, m = {1}, error = {2}\".format(b, m, calculate_error(points, b, m)))\n",
    "    plt.scatter(np_points[:,0], np_points[:, 1])\n",
    "    plt.plot(np_points[:,0], predict(np_points[:,0], b, m))\n",
    "    plt.show()\n",
    "    \n",
    "run()    "
   ]
  },
  {
   "cell_type": "code",
   "execution_count": null,
   "metadata": {
    "collapsed": true,
    "deletable": true,
    "editable": true
   },
   "outputs": [],
   "source": []
  }
 ],
 "metadata": {
  "kernelspec": {
   "display_name": "Python 3",
   "language": "python",
   "name": "python3"
  },
  "language_info": {
   "codemirror_mode": {
    "name": "ipython",
    "version": 3
   },
   "file_extension": ".py",
   "mimetype": "text/x-python",
   "name": "python",
   "nbconvert_exporter": "python",
   "pygments_lexer": "ipython3",
   "version": "3.6.0"
  }
 },
 "nbformat": 4,
 "nbformat_minor": 2
}
